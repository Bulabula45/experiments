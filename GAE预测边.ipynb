{
 "cells": [
  {
   "cell_type": "code",
   "execution_count": 1,
   "id": "c09af88a",
   "metadata": {},
   "outputs": [
    {
     "data": {
      "text/plain": [
       "<torch._C.Generator at 0x7fa8880095d0>"
      ]
     },
     "execution_count": 1,
     "metadata": {},
     "output_type": "execute_result"
    }
   ],
   "source": [
    "import torch\n",
    "import torch.nn as nn\n",
    "import torch.nn.functional as F\n",
    "from torch.autograd import Variable\n",
    "import scipy.sparse as sp\n",
    "import numpy as np\n",
    "import torch.optim as optim\n",
    "import pandas as pd\n",
    "from torch_geometric.data import Data\n",
    "import torch_geometric.transforms as T\n",
    "\n",
    "\n",
    "seed = 12345\n",
    "\n",
    "np.random.seed(seed)  # seed for numpy\n",
    "torch.manual_seed(seed)  # seed for PyTorch CPU"
   ]
  },
  {
   "cell_type": "code",
   "execution_count": 2,
   "id": "76b0d010",
   "metadata": {},
   "outputs": [],
   "source": [
    "def normalization(adjacency):\n",
    "    \"\"\" \n",
    "    degree matrix\n",
    "    L=D^-0.5 * (A+I) * D^-0.5\n",
    "    \"\"\"\n",
    "    # adjacency += sp.eye(adjacency.shape[0])    # \n",
    "    adjacency =sp.coo_matrix(adjacency)\n",
    "    degree = np.array(adjacency.sum(1)) # \n",
    "    d_hat = sp.diags(np.power(degree, -0.5).flatten())\n",
    "    adj_normalized = d_hat.dot(adjacency).dot(d_hat).tocoo()\n",
    "    adj_normalized = sp.csc_matrix.todense(adj_normalized) #\n",
    "    return adj_normalized\n",
    "\n",
    "\n",
    "DEVICE='cpu'\n",
    "\n",
    "hidden_m =256   \n",
    "decod = 128\n",
    "LEARNING_RATE = 0.01\n",
    "WEIGHT_DACAY = 5e-4   \n",
    "\n",
    "BASE = '/Users/chensiang/Desktop/深度学习/GraLTR-LDA_main/independent_test'\n",
    "dataset_name = 'iLncDA-LTR'\n",
    "\n",
    "# training set\n",
    "adj = np.load(BASE+'/datasets/'+dataset_name+'/1044_LD.npy')\n",
    "\n",
    "# lncRNA-lncRNA adjacency matrix have been with self-loop\n",
    "lnc_x = np.load(BASE+'/datasets/'+dataset_name+'/'+dataset_name+'_lnc.npy')\n",
    "lnc_x = np.float32(lnc_x)\n",
    "\n",
    "# disease-disease adjacency matrix have been with self-loop \n",
    "dis_x = np.load(BASE+'/datasets/'+dataset_name+'/'+dataset_name+'_dis.npy')\n",
    "dis_x = np.float32(dis_x)\n",
    "\n",
    "# Construct the adjacency matrix A_LD\n",
    "A_LD = np.vstack((np.hstack((lnc_x,adj)),np.hstack((adj.T,dis_x))))\n",
    "A_LD = np.float32(A_LD) # \n",
    "# init the graph node feature\n",
    "X_LD = A_LD.copy() # \n",
    "\n",
    "LD_adj = normalization(A_LD.copy()) # \n",
    "\n",
    "\n",
    "A_L = lnc_x.copy() #\n",
    "A_L = normalization(A_L.copy())# \n",
    "X_L = X_LD[:lnc_x.shape[0]].copy() # \n",
    "\n",
    "A_D = dis_x.copy() #\n",
    "A_D = normalization(A_D.copy())# \n",
    "X_D = X_LD[lnc_x.shape[0]:].copy() # \n",
    "\n",
    "input_num = adj.shape[0] + adj.shape[1]\n",
    "\n",
    "\n",
    "A_L = torch.from_numpy(A_L)\n",
    "X_L = torch.from_numpy(X_L)\n",
    "A_D = torch.from_numpy(A_D)\n",
    "X_D = torch.from_numpy(X_D)\n",
    "LD_adj = torch.from_numpy(LD_adj)\n",
    "X_LD = torch.from_numpy(X_LD)"
   ]
  },
  {
   "cell_type": "code",
   "execution_count": 5,
   "id": "6bad6370",
   "metadata": {},
   "outputs": [
    {
     "data": {
      "text/plain": [
       "(torch.Size([594, 594]), torch.Size([594, 594]))"
      ]
     },
     "execution_count": 5,
     "metadata": {},
     "output_type": "execute_result"
    }
   ],
   "source": [
    "X_LD.shape, LD_adj.shape"
   ]
  },
  {
   "cell_type": "code",
   "execution_count": 3,
   "id": "5e85564a",
   "metadata": {},
   "outputs": [],
   "source": [
    "from torch_geometric.nn import GCNConv\n",
    "from torch_geometric.nn import GAE\n",
    "\n",
    "class GCNEncoder(nn.Module):\n",
    "    def  __init__(self, in_channels, hidden_size, out_channels, dropout):\n",
    "        super(GCNEncoder, self).__init__()\n",
    "        self.conv1 = GCNConv(in_channels, hidden_size, cached=True)\n",
    "        self.conv2 = GCNConv(hidden_size, out_channels, cached=True)\n",
    "        self.dropout = nn.Dropout(dropout)\n",
    "    \n",
    "    def forward(self, x, edge_index):\n",
    "        x = self.conv1(x, edge_index).relu()\n",
    "        x = self.dropout(x)\n",
    "        return self.conv2(x, edge_index)\n"
   ]
  },
  {
   "cell_type": "code",
   "execution_count": 4,
   "id": "ceccd31b",
   "metadata": {},
   "outputs": [],
   "source": [
    "df = pd.read_csv(\"/Users/chensiang/Downloads/DG-AssocMiner_miner-disease-gene.tsv\",sep=\"\\t\")\n"
   ]
  },
  {
   "cell_type": "code",
   "execution_count": 5,
   "id": "656e478c",
   "metadata": {},
   "outputs": [
    {
     "data": {
      "text/plain": [
       "(tensor([[   0,    0,    0,  ...,  518,  518,  518],\n",
       "         [ 519,  520,  521,  ..., 7810, 7811, 7812]]),\n",
       " tensor([[ 519,  520,  521,  ..., 7810, 7811, 7812],\n",
       "         [   0,    0,    0,  ...,  518,  518,  518]]))"
      ]
     },
     "execution_count": 5,
     "metadata": {},
     "output_type": "execute_result"
    }
   ],
   "source": [
    "dis_idx = {}\n",
    "k = 0\n",
    "for dis in df.Disease_ID:\n",
    "    if dis not in dis_idx.keys():\n",
    "        dis_idx[dis] = k\n",
    "        k += 1\n",
    "\n",
    "gene_idx = {}\n",
    "for gene in df.Gene_ID:\n",
    "    if gene not in gene_idx.keys():\n",
    "        gene_idx[gene] = k\n",
    "        k += 1\n",
    "#0-518号疾病，519-7812号基因\n",
    "adj_size = len(dis_idx) + len(gene_idx)\n",
    "adj_matrix = torch.zeros((adj_size, adj_size))\n",
    "for dis, gene in zip(df.Disease_ID, df.Gene_ID):\n",
    "    adj_matrix[dis_idx[dis]][gene_idx[gene]] = 1\n",
    "    \n",
    "edge_idx = torch.cat([_.unsqueeze(0) for _ in torch.where(adj_matrix==1)])\n",
    "reverse_edge_idx = torch.cat([edge_idx[1].unsqueeze(0), edge_idx[0].unsqueeze(0)],dim=0)\n",
    "edge_idx, reverse_edge_idx"
   ]
  },
  {
   "cell_type": "code",
   "execution_count": 6,
   "id": "ab78b111",
   "metadata": {},
   "outputs": [],
   "source": [
    "num_features = 1\n",
    "hidden_dim = 128\n",
    "out_dim = 16\n",
    "num_epochs = 400"
   ]
  },
  {
   "cell_type": "code",
   "execution_count": 7,
   "id": "b0a8dd88",
   "metadata": {},
   "outputs": [],
   "source": [
    "data = Data()\n",
    "data.num_nodes = adj_size\n",
    "data.edge_index = torch.cat((edge_idx, reverse_edge_idx), dim=1)\n",
    "data.x = torch.ones(data.num_nodes, num_features)"
   ]
  },
  {
   "cell_type": "code",
   "execution_count": 8,
   "id": "a572485b",
   "metadata": {},
   "outputs": [],
   "source": [
    "tfm = T.Compose([T.RandomLinkSplit(num_val=0.05, num_test=0.15, is_undirected=True,split_labels=True,add_negative_train_samples=True)])\n",
    "train_dataset, val_dataset, test_dataset = tfm(data)"
   ]
  },
  {
   "cell_type": "code",
   "execution_count": 9,
   "id": "36ad6263",
   "metadata": {},
   "outputs": [
    {
     "data": {
      "text/plain": [
       "Data(num_nodes=7813, edge_index=[2, 34174], x=[7813, 1], pos_edge_label=[17087], pos_edge_label_index=[2, 17087], neg_edge_label=[17087], neg_edge_label_index=[2, 17087])"
      ]
     },
     "execution_count": 9,
     "metadata": {},
     "output_type": "execute_result"
    }
   ],
   "source": [
    "train_dataset"
   ]
  },
  {
   "cell_type": "code",
   "execution_count": 10,
   "id": "178627d1",
   "metadata": {},
   "outputs": [
    {
     "name": "stdout",
     "output_type": "stream",
     "text": [
      "Epoch: 100, test AUC: 0.9610, test AP: 0.9569, train AUC: 0.9610, train AP: 0.9547, loss:1.0647\n",
      "Epoch: 200, test AUC: 0.9598, test AP: 0.9561, train AUC: 0.9594, train AP: 0.9549, loss:1.0369\n",
      "Epoch: 300, test AUC: 0.9567, test AP: 0.9536, train AUC: 0.9570, train AP: 0.9541, loss:1.0425\n",
      "Epoch: 400, test AUC: 0.9464, test AP: 0.9477, train AUC: 0.9565, train AP: 0.9540, loss:1.0402\n"
     ]
    }
   ],
   "source": [
    "def gae_train(train_data, gae_model, optimizer):\n",
    "    gae_model.train()\n",
    "    optimizer.zero_grad()\n",
    "    z = gae_model.encode(train_data.x, train_data.edge_index)\n",
    "    loss = gae_model.recon_loss(z, train_data.pos_edge_label_index)\n",
    "    loss.backward(retain_graph=True)\n",
    "    optimizer.step()\n",
    "    return float(loss)\n",
    "\n",
    "@torch.no_grad()\n",
    "def gae_test(test_data, gae_model):\n",
    "    gae_model.eval()\n",
    "    z = gae_model.encode(test_data.x, test_data.edge_index)\n",
    "    return gae_model.test(z, test_data.pos_edge_label_index, test_data.neg_edge_label_index)\n",
    "\n",
    "\n",
    "losses = []\n",
    "test_auc = []\n",
    "test_ap = []\n",
    "train_aucs = []\n",
    "train_aps = []\n",
    "\n",
    "gae_model = GAE(GCNEncoder(num_features, hidden_dim, out_dim, 0.5))\n",
    "optimizer = torch.optim.Adam(gae_model.parameters(), lr=0.01)\n",
    "\n",
    "for epoch in range(1, num_epochs + 1):\n",
    "    loss = gae_train(train_dataset, gae_model, optimizer)\n",
    "    losses.append(loss)\n",
    "    auc, ap = gae_test(test_dataset, gae_model)\n",
    "    test_auc.append(auc)\n",
    "    test_ap.append(ap)\n",
    "\n",
    "    train_auc, train_ap = gae_test(train_dataset, gae_model)\n",
    "\n",
    "    train_aucs.append(train_auc)\n",
    "    train_aps.append(train_ap)\n",
    "\n",
    "    if(epoch % 100 == 0):\n",
    "        print('Epoch: {:03d}, test AUC: {:.4f}, test AP: {:.4f}, train AUC: {:.4f}, train AP: {:.4f}, loss:{:.4f}'.format(epoch, auc, ap, train_auc, train_ap, loss))\n"
   ]
  },
  {
   "cell_type": "code",
   "execution_count": 18,
   "id": "d96ac85d",
   "metadata": {},
   "outputs": [],
   "source": [
    "import matplotlib.pyplot as plt\n",
    "%matplotlib inline\n"
   ]
  },
  {
   "cell_type": "code",
   "execution_count": 27,
   "id": "c0dfe0db",
   "metadata": {},
   "outputs": [
    {
     "data": {
      "image/png": "[encoded data removed]",
      "text/plain": [
       "<Figure size 648x288 with 2 Axes>"
      ]
     },
     "metadata": {
      "needs_background": "light"
     },
     "output_type": "display_data"
    }
   ],
   "source": [
    "x = range(1, num_epochs+1)\n",
    "ave_loss = losses.copy()\n",
    "for k in range(1, len(ave_loss)):\n",
    "    ave_loss[k] = 0.9 * ave_loss[k-1] + 0.1 * ave_loss[k]\n",
    "\n",
    "plt.figure(figsize=(9, 4))\n",
    "plt.subplot(121)\n",
    "plt.plot(x , losses, '.-')\n",
    "plt.title('Train loss')\n",
    "plt.subplot(122)\n",
    "plt.plot(x , ave_loss, '.-')\n",
    "plt.title('Ave Train loss')\n",
    "plt.show()"
   ]
  },
  {
   "cell_type": "code",
   "execution_count": 30,
   "id": "89c094d0",
   "metadata": {},
   "outputs": [
    {
     "data": {
      "text/plain": [
       "1"
      ]
     },
     "execution_count": 30,
     "metadata": {},
     "output_type": "execute_result"
    }
   ],
   "source": []
  },
  {
   "cell_type": "code",
   "execution_count": null,
   "id": "ddcf529b",
   "metadata": {},
   "outputs": [],
   "source": []
  },
  {
   "cell_type": "code",
   "execution_count": null,
   "id": "f3db9ec3",
   "metadata": {},
   "outputs": [],
   "source": []
  },
  {
   "cell_type": "code",
   "execution_count": 32,
   "id": "ace8fed7",
   "metadata": {},
   "outputs": [
    {
     "data": {
      "text/plain": [
       "(torch.Size([2, 9886]), torch.Size([2, 988]), torch.Size([2, 8898]))"
      ]
     },
     "execution_count": 32,
     "metadata": {},
     "output_type": "execute_result"
    }
   ],
   "source": [
    "import random\n",
    "\n",
    "\n",
    "k_folds = 10\n",
    "index_matrix = np.mat(np.where(np.triu(A_LD) == 1))\n",
    "association_nam = index_matrix.shape[1]\n",
    "random_index = index_matrix.T.tolist()\n",
    "random.seed(seed)\n",
    "random.shuffle(random_index)\n",
    "CV_size = int(association_nam / k_folds)\n",
    "temp = np.array(random_index[:association_nam - association_nam %\n",
    "                                 k_folds]).reshape(k_folds, CV_size,  -1).tolist()\n",
    "temp[k_folds - 1] = temp[k_folds - 1] + \\\n",
    "        random_index[association_nam - association_nam % k_folds:]\n",
    "\n",
    "random_index = temp\n",
    "\n",
    "edge_index = torch.from_numpy(index_matrix)\n",
    "val_edge_index = torch.tensor(np.array(random_index[5])).transpose(0, 1)\n",
    "train_edge_index = torch.cat((torch.tensor(np.concatenate(random_index[:5])), torch.tensor(np.concatenate(random_index[6:])))).transpose(0, 1)\n",
    "\n",
    "edge_index.shape, val_edge_index.shape, train_edge_index.shape"
   ]
  },
  {
   "cell_type": "code",
   "execution_count": 38,
   "id": "ef8d9803",
   "metadata": {},
   "outputs": [
    {
     "data": {
      "text/plain": [
       "(torch.Size([2, 1976]), torch.Size([2, 17796]))"
      ]
     },
     "execution_count": 38,
     "metadata": {},
     "output_type": "execute_result"
    }
   ],
   "source": [
    "rev_train_edge_index = torch.cat((train_edge_index[0].unsqueeze(0), train_edge_index[1].unsqueeze(0)), dim=0)\n",
    "rev_val_edge_index = torch.cat((val_edge_index[0].unsqueeze(0), val_edge_index[1].unsqueeze(0)), dim=0)\n",
    "train_edge_index = torch.cat((train_edge_index ,rev_train_edge_index), dim=1)\n",
    "val_edge_index = torch.cat((val_edge_index ,rev_val_edge_index), dim=1)\n",
    "val_edge_index.shape, train_edge_index.shape"
   ]
  },
  {
   "cell_type": "code",
   "execution_count": 70,
   "id": "8bc2e192",
   "metadata": {},
   "outputs": [
    {
     "data": {
      "text/plain": [
       "(0.05043703023501003, 0.0005598351548070999)"
      ]
     },
     "execution_count": 70,
     "metadata": {},
     "output_type": "execute_result"
    }
   ],
   "source": [
    "train_edge_index.shape[1] / (594*594), train_dataset.edge_index.shape[1] / (7813*7813)"
   ]
  },
  {
   "cell_type": "code",
   "execution_count": 60,
   "id": "f19b92cb",
   "metadata": {},
   "outputs": [],
   "source": [
    "from torch_geometric.nn import GCNConv\n",
    "from torch_geometric.nn import InnerProductDecoder\n",
    "from torch_geometric.nn import GAE\n",
    "EPS = 1e-15\n",
    "\n",
    "class GCNEncoder(nn.Module):\n",
    "    def  __init__(self, in_channels, hidden_size, out_channels, dropout):\n",
    "        super(GCNEncoder, self).__init__()\n",
    "        self.conv1 = GCNConv(in_channels, hidden_size, cached=True)\n",
    "        self.conv2 = GCNConv(hidden_size, out_channels, cached=True)\n",
    "        self.dropout = nn.Dropout(dropout)\n",
    "    \n",
    "    def forward(self, x, edge_index):\n",
    "        x = self.conv1(x, edge_index).relu()\n",
    "        x = self.dropout(x)\n",
    "        return self.conv2(x, edge_index)\n",
    "\n",
    "'''    \n",
    "class GraphAutoEncoder(nn.Module):\n",
    "    def __init__(self, encoder, decoder=InnerProductDecoder(), graph_type='sparse'):\n",
    "        super(GraphAutoEncoder, self).__init__()\n",
    "        self.encoder = encoder\n",
    "        self.decoder = decoder\n",
    "        self.graph_type = graph_type\n",
    "    \n",
    "    def encode(self, x, edge_index):\n",
    "        return self.encoder(x, edge_index)\n",
    "    \n",
    "    def recon_loss(self, z, pos_edge_index, neg_edge_index=None):\n",
    "        pos_loss = -torch.log(\n",
    "            self.decoder(z, pos_edge_index, sigmoid=True) + EPS).mean()\n",
    "        if neg_edge_index is None:\n",
    "            neg_edge_index = negative_sampling(pos_edge_index, z.size(0),method=self.graph_type)\n",
    "        neg_loss = -torch.log(1 -\n",
    "                              self.decoder(z, neg_edge_index, sigmoid=True) +\n",
    "                              EPS).mean()\n",
    "\n",
    "        return pos_loss + neg_loss\n",
    "    \n",
    "    def test(self, z, pos_edge_index, neg_edge_index):\n",
    "        from sklearn.metrics import average_precision_score, roc_auc_score\n",
    "\n",
    "        pos_y = z.new_ones(pos_edge_index.size(1))\n",
    "        neg_y = z.new_zeros(neg_edge_index.size(1))\n",
    "        y = torch.cat([pos_y, neg_y], dim=0)\n",
    "\n",
    "        pos_pred = self.decoder(z, pos_edge_index, sigmoid=True)\n",
    "        neg_pred = self.decoder(z, neg_edge_index, sigmoid=True)\n",
    "        pred = torch.cat([pos_pred, neg_pred], dim=0)\n",
    "\n",
    "        y, pred = y.detach().cpu().numpy(), pred.detach().cpu().numpy()\n",
    "\n",
    "        return roc_auc_score(y, pred), average_precision_score(y, pred)\n",
    "    '''\n",
    "class GraphAutoEncoder(nn.Module):\n",
    "    def __init__(self, gae, graph_type='sparse'):\n",
    "        super(GraphAutoEncoder, self).__init__()\n",
    "        self.gae = gae\n",
    "        self.graph_type = graph_type\n",
    "    \n",
    "    def encode(self, x, edge_index):\n",
    "        return self.gae.encode(x, edge_index)\n",
    "    \n",
    "    def test(self, z, pos_edge_index, neg_edge_index):\n",
    "        return self.gae.test(z, pos_edge_index, neg_edge_index)\n",
    "    \n",
    "    def recon_loss(self, z, pos_edge_index, neg_edge_index=None):\n",
    "        pos_loss = -torch.log(\n",
    "            self.gae.decoder(z, pos_edge_index, sigmoid=True) + EPS).mean()\n",
    "        if neg_edge_index is None:\n",
    "            neg_edge_index = negative_sampling(pos_edge_index, z.size(0),method=self.graph_type)\n",
    "        neg_loss = -torch.log(1 -\n",
    "                              self.gae.decoder(z, neg_edge_index, sigmoid=True) +\n",
    "                              EPS).mean()\n",
    "\n",
    "        return pos_loss + neg_loss"
   ]
  },
  {
   "cell_type": "code",
   "execution_count": 68,
   "id": "1a56b708",
   "metadata": {
    "scrolled": true
   },
   "outputs": [
    {
     "name": "stdout",
     "output_type": "stream",
     "text": [
      "Epoch: 200, test AUC: 0.6595, test AP: 0.6609, train AUC: 0.6777, train AP: 0.6777, loss:1.3163\n",
      "Epoch: 400, test AUC: 0.6514, test AP: 0.6529, train AUC: 0.7072, train AP: 0.7119, loss:1.2866\n",
      "Epoch: 600, test AUC: 0.6780, test AP: 0.6808, train AUC: 0.7134, train AP: 0.7212, loss:1.2780\n",
      "Epoch: 800, test AUC: 0.6520, test AP: 0.6550, train AUC: 0.7097, train AP: 0.7101, loss:1.2859\n",
      "Epoch: 1000, test AUC: 0.6812, test AP: 0.6830, train AUC: 0.7278, train AP: 0.7301, loss:1.2647\n"
     ]
    }
   ],
   "source": [
    "from torch_geometric.utils import negative_sampling\n",
    "\n",
    "\n",
    "EPOCHS = 1000\n",
    "learning_rate = 0.01\n",
    "\n",
    "#NUM_FEATURES = X_LD.shape[1]\n",
    "NUM_FEATURES = 1\n",
    "HIDDEN_SIZE = 128\n",
    "OUT_CHANNELS = 16\n",
    "\n",
    "X = torch.ones(X_LD.shape[0],1)\n",
    "gae_model = GAE(GCNEncoder(NUM_FEATURES, HIDDEN_SIZE, OUT_CHANNELS, 0.5))\n",
    "#gae_model = GraphAutoEncoder(GCNEncoder(NUM_FEATURES, HIDDEN_SIZE, OUT_CHANNELS, 0.5), graph_type='dense')\n",
    "#gae_model = GraphAutoEncoder(gae=GAE(GCNEncoder(NUM_FEATURES, HIDDEN_SIZE, OUT_CHANNELS, 0.5)), graph_type='dense')\n",
    "\n",
    "def gae_train(x, edge_index, gae_model, optimizer):\n",
    "    gae_model.train()\n",
    "    optimizer.zero_grad()\n",
    "    z = gae_model.encode(x, edge_index)\n",
    "    loss = gae_model.recon_loss(z, edge_index)\n",
    "    loss.backward(retain_graph=True)\n",
    "    optimizer.step()\n",
    "    return z, float(loss)\n",
    "\n",
    "\n",
    "@torch.no_grad()\n",
    "def gae_test(z, pos_edge_index, gae_model):\n",
    "    gae_model.eval()\n",
    "    neg_edge_index = negative_sampling(pos_edge_index, z.size(0), method='dense')\n",
    "    # neg_edge_index = negative_sampling(pos_edge_index, z.size(0))\n",
    "    return gae_model.test(z, pos_edge_index, neg_edge_index)\n",
    "\n",
    "losses = []\n",
    "test_auc = []\n",
    "test_ap = []\n",
    "train_aucs = []\n",
    "train_aps = []\n",
    "\n",
    "optimizer = torch.optim.Adam(gae_model.parameters(), lr=learning_rate)\n",
    "\n",
    "for epoch in range(1, EPOCHS + 1):\n",
    "    \n",
    "    \n",
    "    z, loss = gae_train(X, train_edge_index, gae_model, optimizer)\n",
    "    losses.append(loss)\n",
    "    \n",
    "    \n",
    "    auc, ap = gae_test(z, val_edge_index, gae_model)\n",
    "    test_auc.append(auc)\n",
    "    test_ap.append(ap)\n",
    "\n",
    "    train_auc, train_ap = gae_test(z, train_edge_index, gae_model)\n",
    "\n",
    "    train_aucs.append(train_auc)\n",
    "    train_aps.append(train_ap)\n",
    "    \n",
    "    if(epoch % 200 == 0):\n",
    "        print('Epoch: {:03d}, test AUC: {:.4f}, test AP: {:.4f}, train AUC: {:.4f}, train AP: {:.4f}, loss:{:.4f}'.format(epoch, auc, ap, train_auc, train_ap, loss))"
   ]
  },
  {
   "cell_type": "markdown",
   "id": "d2028e37",
   "metadata": {},
   "source": [
    "第一次训练结果：\n",
    "Epoch: 200, test AUC: 0.6420, test AP: 0.6422, train AUC: 0.6819, train AP: 0.6833, loss:1.3118\n",
    "Epoch: 400, test AUC: 0.6307, test AP: 0.6268, train AUC: 0.6712, train AP: 0.6722, loss:1.3283\n",
    "Epoch: 600, test AUC: 0.6398, test AP: 0.6426, train AUC: 0.6910, train AP: 0.6915, loss:1.3261\n",
    "Epoch: 800, test AUC: 0.6829, test AP: 0.6774, train AUC: 0.7279, train AP: 0.7293, loss:1.2676\n",
    "Epoch: 1000, test AUC: 0.6943, test AP: 0.6972, train AUC: 0.7430, train AP: 0.7420, loss:1.2542\n",
    "loss较高、test AUC和train AUC都不高的原因：边稠密，导致稀疏负采样不合理？\n",
    "\n",
    "第二次训练结果，稠密图采样，不是该原因：\n",
    "Epoch: 200, test AUC: 0.6595, test AP: 0.6609, train AUC: 0.6777, train AP: 0.6777, loss:1.3163\n",
    "Epoch: 400, test AUC: 0.6514, test AP: 0.6529, train AUC: 0.7072, train AP: 0.7119, loss:1.2866\n",
    "Epoch: 600, test AUC: 0.6780, test AP: 0.6808, train AUC: 0.7134, train AP: 0.7212, loss:1.2780\n",
    "Epoch: 800, test AUC: 0.6520, test AP: 0.6550, train AUC: 0.7097, train AP: 0.7101, loss:1.2859\n",
    "Epoch: 1000, test AUC: 0.6812, test AP: 0.6830, train AUC: 0.7278, train AP: 0.7301, loss:1.2647\n",
    "\n",
    "换超参：****补实验，找一下论文可以怎么调惨"
   ]
  },
  {
   "cell_type": "code",
   "execution_count": 67,
   "id": "faec7dbb",
   "metadata": {},
   "outputs": [
    {
     "data": {
      "image/png": "[encoded data removed]",
      "text/plain": [
       "<Figure size 1152x288 with 2 Axes>"
      ]
     },
     "metadata": {
      "needs_background": "light"
     },
     "output_type": "display_data"
    }
   ],
   "source": [
    "#第一次训练，\n",
    "x = range(1, EPOCHS+1)\n",
    "ave_loss = losses.copy()\n",
    "for k in range(1, len(ave_loss)):\n",
    "    ave_loss[k] = 0.9 * ave_loss[k-1] + 0.1 * ave_loss[k]\n",
    "\n",
    "plt.figure(figsize=(16, 4))\n",
    "plt.subplot(121)\n",
    "plt.plot(x , losses, '.-')\n",
    "plt.title('-Train loss')\n",
    "plt.subplot(122)\n",
    "plt.plot(x , ave_loss, '.-')\n",
    "plt.title('Ave Train loss')\n",
    "plt.show()"
   ]
  },
  {
   "cell_type": "code",
   "execution_count": 69,
   "id": "1fed6195",
   "metadata": {},
   "outputs": [
    {
     "data": {
      "image/png": "[encoded data removed]",
      "text/plain": [
       "<Figure size 1152x288 with 2 Axes>"
      ]
     },
     "metadata": {
      "needs_background": "light"
     },
     "output_type": "display_data"
    }
   ],
   "source": [
    "#第二次训练，\n",
    "x = range(1, EPOCHS+1)\n",
    "ave_loss = losses.copy()\n",
    "for k in range(1, len(ave_loss)):\n",
    "    ave_loss[k] = 0.9 * ave_loss[k-1] + 0.1 * ave_loss[k]\n",
    "\n",
    "plt.figure(figsize=(16, 4))\n",
    "plt.subplot(121)\n",
    "plt.plot(x , losses, '.-')\n",
    "plt.title('-Train loss')\n",
    "plt.subplot(122)\n",
    "plt.plot(x , ave_loss, '.-')\n",
    "plt.title('Ave Train loss')\n",
    "plt.show()"
   ]
  },
  {
   "cell_type": "code",
   "execution_count": null,
   "id": "9de7adfd",
   "metadata": {},
   "outputs": [],
   "source": []
  },
  {
   "cell_type": "code",
   "execution_count": null,
   "id": "c03beb41",
   "metadata": {},
   "outputs": [],
   "source": []
  }
 ],
 "metadata": {
  "kernelspec": {
   "display_name": "Python 3 (ipykernel)",
   "language": "python",
   "name": "python3"
  },
  "language_info": {
   "codemirror_mode": {
    "name": "ipython",
    "version": 3
   },
   "file_extension": ".py",
   "mimetype": "text/x-python",
   "name": "python",
   "nbconvert_exporter": "python",
   "pygments_lexer": "ipython3",
   "version": "3.9.7"
  },
  "varInspector": {
   "cols": {
    "lenName": 16,
    "lenType": 16,
    "lenVar": 40
   },
   "kernels_config": {
    "python": {
     "delete_cmd_postfix": "",
     "delete_cmd_prefix": "del ",
     "library": "var_list.py",
     "varRefreshCmd": "print(var_dic_list())"
    },
    "r": {
     "delete_cmd_postfix": ") ",
     "delete_cmd_prefix": "rm(",
     "library": "var_list.r",
     "varRefreshCmd": "cat(var_dic_list()) "
    }
   },
   "position": {
    "height": "144.852px",
    "left": "823px",
    "right": "20px",
    "top": "119px",
    "width": "350px"
   },
   "types_to_exclude": [
    "module",
    "function",
    "builtin_function_or_method",
    "instance",
    "_Feature"
   ],
   "window_display": false
  }
 },
 "nbformat": 4,
 "nbformat_minor": 5
}
